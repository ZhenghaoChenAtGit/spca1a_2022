{
 "cells": [
  {
   "cell_type": "code",
   "execution_count": 1,
   "metadata": {},
   "outputs": [],
   "source": [
    "import pandas as pd\n",
    "from Hb_toolkit import *"
   ]
  },
  {
   "cell_type": "markdown",
   "metadata": {},
   "source": [
    "Covert the detected hydrobond txt files to Dataframes. \n",
    " \n",
    "Hydrogen bonds were deteced in ChimeraX."
   ]
  },
  {
   "cell_type": "code",
   "execution_count": 2,
   "metadata": {},
   "outputs": [],
   "source": [
    "hb_s1a   = Path(f\"hb_s1a.txt\").read_text()\n",
    "hb_s2b   = Path(f\"hb_s2b.txt\").read_text()\n",
    "hb_spca1 = Path(f\"hb_spca1a.txt\").read_text()\n",
    "\n",
    "df_s1a   = input_to_df(hb_s1a)\n",
    "df_s2b   = input_to_df(hb_s2b)\n",
    "df_spca1 = input_to_df(hb_spca1)\n"
   ]
  },
  {
   "cell_type": "markdown",
   "metadata": {},
   "source": [
    "Add entry names to each dataframe"
   ]
  },
  {
   "cell_type": "code",
   "execution_count": 3,
   "metadata": {},
   "outputs": [],
   "source": [
    "df_s1a[\"entry\"]   = \"SERCA1a\"\n",
    "df_s2b[\"entry\"]   = \"SERCA2b\"\n",
    "df_spca1[\"entry\"] = \"SPCA1a\""
   ]
  },
  {
   "cell_type": "markdown",
   "metadata": {},
   "source": [
    "Check the first 10 lines"
   ]
  },
  {
   "cell_type": "code",
   "execution_count": 4,
   "metadata": {},
   "outputs": [
    {
     "data": {
      "text/html": [
       "<div>\n",
       "<style scoped>\n",
       "    .dataframe tbody tr th:only-of-type {\n",
       "        vertical-align: middle;\n",
       "    }\n",
       "\n",
       "    .dataframe tbody tr th {\n",
       "        vertical-align: top;\n",
       "    }\n",
       "\n",
       "    .dataframe thead th {\n",
       "        text-align: right;\n",
       "    }\n",
       "</style>\n",
       "<table border=\"1\" class=\"dataframe\">\n",
       "  <thead>\n",
       "    <tr style=\"text-align: right;\">\n",
       "      <th></th>\n",
       "      <th>donor_chain</th>\n",
       "      <th>donor_residue_ID</th>\n",
       "      <th>donor_seq</th>\n",
       "      <th>donor_atom</th>\n",
       "      <th>acceptor_chain</th>\n",
       "      <th>acceptor_residue_ID</th>\n",
       "      <th>acceptor_seq</th>\n",
       "      <th>acceptor_atom</th>\n",
       "      <th>distance</th>\n",
       "      <th>entry</th>\n",
       "    </tr>\n",
       "  </thead>\n",
       "  <tbody>\n",
       "    <tr>\n",
       "      <th>0</th>\n",
       "      <td>A</td>\n",
       "      <td>SER</td>\n",
       "      <td>23</td>\n",
       "      <td>OG</td>\n",
       "      <td>A</td>\n",
       "      <td>GLU</td>\n",
       "      <td>240</td>\n",
       "      <td>OE2</td>\n",
       "      <td>3.471</td>\n",
       "      <td>SPCA1a</td>\n",
       "    </tr>\n",
       "    <tr>\n",
       "      <th>1</th>\n",
       "      <td>A</td>\n",
       "      <td>SER</td>\n",
       "      <td>27</td>\n",
       "      <td>N</td>\n",
       "      <td>A</td>\n",
       "      <td>SER</td>\n",
       "      <td>23</td>\n",
       "      <td>O</td>\n",
       "      <td>3.046</td>\n",
       "      <td>SPCA1a</td>\n",
       "    </tr>\n",
       "    <tr>\n",
       "      <th>2</th>\n",
       "      <td>A</td>\n",
       "      <td>SER</td>\n",
       "      <td>27</td>\n",
       "      <td>OG</td>\n",
       "      <td>A</td>\n",
       "      <td>GLN</td>\n",
       "      <td>202</td>\n",
       "      <td>OE1</td>\n",
       "      <td>3.349</td>\n",
       "      <td>SPCA1a</td>\n",
       "    </tr>\n",
       "    <tr>\n",
       "      <th>3</th>\n",
       "      <td>A</td>\n",
       "      <td>GLU</td>\n",
       "      <td>28</td>\n",
       "      <td>N</td>\n",
       "      <td>A</td>\n",
       "      <td>LYS</td>\n",
       "      <td>24</td>\n",
       "      <td>O</td>\n",
       "      <td>2.920</td>\n",
       "      <td>SPCA1a</td>\n",
       "    </tr>\n",
       "    <tr>\n",
       "      <th>4</th>\n",
       "      <td>A</td>\n",
       "      <td>LEU</td>\n",
       "      <td>29</td>\n",
       "      <td>N</td>\n",
       "      <td>A</td>\n",
       "      <td>LYS</td>\n",
       "      <td>25</td>\n",
       "      <td>O</td>\n",
       "      <td>3.177</td>\n",
       "      <td>SPCA1a</td>\n",
       "    </tr>\n",
       "    <tr>\n",
       "      <th>5</th>\n",
       "      <td>A</td>\n",
       "      <td>GLU</td>\n",
       "      <td>33</td>\n",
       "      <td>N</td>\n",
       "      <td>A</td>\n",
       "      <td>GLU</td>\n",
       "      <td>33</td>\n",
       "      <td>OE1</td>\n",
       "      <td>2.753</td>\n",
       "      <td>SPCA1a</td>\n",
       "    </tr>\n",
       "    <tr>\n",
       "      <th>6</th>\n",
       "      <td>A</td>\n",
       "      <td>VAL</td>\n",
       "      <td>34</td>\n",
       "      <td>N</td>\n",
       "      <td>A</td>\n",
       "      <td>PRO</td>\n",
       "      <td>30</td>\n",
       "      <td>O</td>\n",
       "      <td>3.209</td>\n",
       "      <td>SPCA1a</td>\n",
       "    </tr>\n",
       "    <tr>\n",
       "      <th>7</th>\n",
       "      <td>A</td>\n",
       "      <td>ALA</td>\n",
       "      <td>35</td>\n",
       "      <td>N</td>\n",
       "      <td>A</td>\n",
       "      <td>VAL</td>\n",
       "      <td>31</td>\n",
       "      <td>O</td>\n",
       "      <td>2.902</td>\n",
       "      <td>SPCA1a</td>\n",
       "    </tr>\n",
       "    <tr>\n",
       "      <th>8</th>\n",
       "      <td>A</td>\n",
       "      <td>SER</td>\n",
       "      <td>36</td>\n",
       "      <td>N</td>\n",
       "      <td>A</td>\n",
       "      <td>SER</td>\n",
       "      <td>32</td>\n",
       "      <td>O</td>\n",
       "      <td>2.928</td>\n",
       "      <td>SPCA1a</td>\n",
       "    </tr>\n",
       "    <tr>\n",
       "      <th>9</th>\n",
       "      <td>A</td>\n",
       "      <td>SER</td>\n",
       "      <td>36</td>\n",
       "      <td>OG</td>\n",
       "      <td>A</td>\n",
       "      <td>GLU</td>\n",
       "      <td>33</td>\n",
       "      <td>O</td>\n",
       "      <td>2.646</td>\n",
       "      <td>SPCA1a</td>\n",
       "    </tr>\n",
       "  </tbody>\n",
       "</table>\n",
       "</div>"
      ],
      "text/plain": [
       "  donor_chain donor_residue_ID  donor_seq donor_atom acceptor_chain  \\\n",
       "0           A              SER         23         OG              A   \n",
       "1           A              SER         27          N              A   \n",
       "2           A              SER         27         OG              A   \n",
       "3           A              GLU         28          N              A   \n",
       "4           A              LEU         29          N              A   \n",
       "5           A              GLU         33          N              A   \n",
       "6           A              VAL         34          N              A   \n",
       "7           A              ALA         35          N              A   \n",
       "8           A              SER         36          N              A   \n",
       "9           A              SER         36         OG              A   \n",
       "\n",
       "  acceptor_residue_ID  acceptor_seq acceptor_atom  distance   entry  \n",
       "0                 GLU           240           OE2     3.471  SPCA1a  \n",
       "1                 SER            23             O     3.046  SPCA1a  \n",
       "2                 GLN           202           OE1     3.349  SPCA1a  \n",
       "3                 LYS            24             O     2.920  SPCA1a  \n",
       "4                 LYS            25             O     3.177  SPCA1a  \n",
       "5                 GLU            33           OE1     2.753  SPCA1a  \n",
       "6                 PRO            30             O     3.209  SPCA1a  \n",
       "7                 VAL            31             O     2.902  SPCA1a  \n",
       "8                 SER            32             O     2.928  SPCA1a  \n",
       "9                 GLU            33             O     2.646  SPCA1a  "
      ]
     },
     "execution_count": 4,
     "metadata": {},
     "output_type": "execute_result"
    }
   ],
   "source": [
    "df_spca1.head(10)"
   ]
  },
  {
   "cell_type": "markdown",
   "metadata": {},
   "source": [
    "Check the data type of each column"
   ]
  },
  {
   "cell_type": "code",
   "execution_count": 5,
   "metadata": {},
   "outputs": [
    {
     "data": {
      "text/plain": [
       "donor_chain             object\n",
       "donor_residue_ID        object\n",
       "donor_seq                int64\n",
       "donor_atom              object\n",
       "acceptor_chain          object\n",
       "acceptor_residue_ID     object\n",
       "acceptor_seq             int64\n",
       "acceptor_atom           object\n",
       "distance               float64\n",
       "entry                   object\n",
       "dtype: object"
      ]
     },
     "execution_count": 5,
     "metadata": {},
     "output_type": "execute_result"
    }
   ],
   "source": [
    "df_spca1.dtypes"
   ]
  },
  {
   "cell_type": "markdown",
   "metadata": {},
   "source": [
    "Read domain definition from pre-defined .csv files"
   ]
  },
  {
   "cell_type": "code",
   "execution_count": 6,
   "metadata": {},
   "outputs": [],
   "source": [
    "df_domain_s1a     = pd.read_csv(\"../Domain_definition/s1a_each_domain_exhaustive.csv\")\n",
    "df_domain_s2b     = pd.read_csv(\"../Domain_definition/s2b_each_domain_exhaustive.csv\")\n",
    "df_domain_spca1   = pd.read_csv(\"../Domain_definition/spca1_each_domain_exhaustive.csv\")"
   ]
  },
  {
   "cell_type": "markdown",
   "metadata": {},
   "source": [
    "Merge domain info to dataframes"
   ]
  },
  {
   "cell_type": "markdown",
   "metadata": {},
   "source": [
    "Merge"
   ]
  },
  {
   "cell_type": "code",
   "execution_count": 7,
   "metadata": {},
   "outputs": [],
   "source": [
    "df_merged_s1a   = merge_domains(df_s1a, df_domain_s1a)\n",
    "df_merged_s2b   = merge_domains(df_s2b, df_domain_s2b)\n",
    "df_merged_spca1 = merge_domains(df_spca1, df_domain_spca1)"
   ]
  },
  {
   "cell_type": "markdown",
   "metadata": {},
   "source": [
    "Concatenate dfs to a single dataframe"
   ]
  },
  {
   "cell_type": "code",
   "execution_count": 8,
   "metadata": {},
   "outputs": [],
   "source": [
    "df_concat = pd.concat([df_merged_s1a,df_merged_s2b,df_merged_spca1])"
   ]
  },
  {
   "cell_type": "markdown",
   "metadata": {},
   "source": [
    "Save the dataframe to .csv"
   ]
  },
  {
   "cell_type": "code",
   "execution_count": 9,
   "metadata": {},
   "outputs": [],
   "source": [
    "df_concat.to_csv(\"output/hydrogen_bonds_summary_E1ATP.csv\",index=False)"
   ]
  },
  {
   "cell_type": "markdown",
   "metadata": {},
   "source": [
    "We are going to focuns on hydrogen bonds with TMs, let's filter the dataframe to get donor or acceptor residues in TMs"
   ]
  },
  {
   "cell_type": "code",
   "execution_count": 10,
   "metadata": {},
   "outputs": [],
   "source": [
    "list_TMs = [\"TM1\"        ,\n",
    "            \"TM1-2_loop\" ,\n",
    "            \"TM2\"        ,\n",
    "            \"TM3\"        ,\n",
    "            \"TM3-4_loop\" ,\n",
    "            \"TM4\"        ,\n",
    "            \"TM5\"        ,\n",
    "            \"TM5-6_loop\" ,\n",
    "            \"TM6\"        ,\n",
    "            \"TM6-7_loop\" ,\n",
    "            \"TM7\"        ,\n",
    "            \"TM7-8_loop\" ,\n",
    "            \"TM8\"        ,\n",
    "            \"TM8-9_loop\" ,\n",
    "            \"TM9\"        ,\n",
    "            \"TM9-10_loop\",\n",
    "            \"TM10\"] \n",
    "\n",
    "# Select either donor residue or accepter residue belonging to TMs\n",
    "condition_1 = df_concat[\"donor_domain\"].isin(list_TMs)  | (df_concat[\"acceptor_domain\"].isin(list_TMs)) \n",
    "\n",
    "df_concat_TMs_0 = df_concat.loc[condition_1].reset_index(drop=True) # drop old index"
   ]
  },
  {
   "cell_type": "markdown",
   "metadata": {},
   "source": [
    "Additionally, because we're focuscing on interdomain hydrogen bonds, we'd better remove hygrogen bond formed between mainchain N and O."
   ]
  },
  {
   "cell_type": "code",
   "execution_count": 11,
   "metadata": {},
   "outputs": [],
   "source": [
    "condition_2 = (df_concat_TMs_0[\"donor_atom\"] != \"N\")  | (df_concat_TMs_0[\"acceptor_atom\"] != \"O\")\n",
    "\n",
    "df_concat_TMs = df_concat_TMs_0.loc[condition_2].reset_index(drop=True) # drop old index"
   ]
  },
  {
   "cell_type": "markdown",
   "metadata": {},
   "source": [
    "Detect interdomain hydrogen bonds"
   ]
  },
  {
   "cell_type": "code",
   "execution_count": 12,
   "metadata": {},
   "outputs": [],
   "source": [
    "df_concat_TMs[\"interdomain\"] = df_concat_TMs[\"donor_domain\"] != df_concat_TMs[\"acceptor_domain\"]"
   ]
  },
  {
   "cell_type": "code",
   "execution_count": 13,
   "metadata": {},
   "outputs": [],
   "source": [
    "df_concat_TMs.to_csv(\"output/interdomain_E1ATP.csv\", index=False)"
   ]
  },
  {
   "cell_type": "markdown",
   "metadata": {},
   "source": [
    "Group [\"entry\",\"acceptor_domain\",\"interdomain\"]"
   ]
  },
  {
   "cell_type": "code",
   "execution_count": 14,
   "metadata": {},
   "outputs": [],
   "source": [
    "df_acceptor = df_concat_TMs.groupby([\"entry\",\"acceptor_domain\",\"interdomain\"]).size().reset_index()\n",
    "df_acceptor = df_acceptor.rename(columns = {0 : \"acceptor_count\"}) # rename the last column\n",
    "\n",
    "df_donor    = df_concat_TMs.groupby([\"entry\",\"donor_domain\",\"interdomain\"]).size().reset_index()\n",
    "df_donor    = df_donor.rename(columns = {0 : \"donor_count\"}) # rename the last column\n",
    "\n",
    "# add a column for merge\n",
    "df_acceptor[\"merge_domain\"] = df_acceptor[\"acceptor_domain\"]\n",
    "df_donor[\"merge_domain\"]    = df_donor[\"donor_domain\"]"
   ]
  },
  {
   "cell_type": "code",
   "execution_count": 15,
   "metadata": {},
   "outputs": [
    {
     "data": {
      "text/html": [
       "<div>\n",
       "<style scoped>\n",
       "    .dataframe tbody tr th:only-of-type {\n",
       "        vertical-align: middle;\n",
       "    }\n",
       "\n",
       "    .dataframe tbody tr th {\n",
       "        vertical-align: top;\n",
       "    }\n",
       "\n",
       "    .dataframe thead th {\n",
       "        text-align: right;\n",
       "    }\n",
       "</style>\n",
       "<table border=\"1\" class=\"dataframe\">\n",
       "  <thead>\n",
       "    <tr style=\"text-align: right;\">\n",
       "      <th></th>\n",
       "      <th>entry</th>\n",
       "      <th>acceptor_domain</th>\n",
       "      <th>interdomain</th>\n",
       "      <th>acceptor_count</th>\n",
       "      <th>merge_domain</th>\n",
       "    </tr>\n",
       "  </thead>\n",
       "  <tbody>\n",
       "    <tr>\n",
       "      <th>0</th>\n",
       "      <td>SERCA1a</td>\n",
       "      <td>P_domain</td>\n",
       "      <td>True</td>\n",
       "      <td>10</td>\n",
       "      <td>P_domain</td>\n",
       "    </tr>\n",
       "    <tr>\n",
       "      <th>1</th>\n",
       "      <td>SERCA1a</td>\n",
       "      <td>TM1</td>\n",
       "      <td>False</td>\n",
       "      <td>2</td>\n",
       "      <td>TM1</td>\n",
       "    </tr>\n",
       "    <tr>\n",
       "      <th>2</th>\n",
       "      <td>SERCA1a</td>\n",
       "      <td>TM1</td>\n",
       "      <td>True</td>\n",
       "      <td>1</td>\n",
       "      <td>TM1</td>\n",
       "    </tr>\n",
       "    <tr>\n",
       "      <th>3</th>\n",
       "      <td>SERCA1a</td>\n",
       "      <td>TM1-2_loop</td>\n",
       "      <td>True</td>\n",
       "      <td>1</td>\n",
       "      <td>TM1-2_loop</td>\n",
       "    </tr>\n",
       "    <tr>\n",
       "      <th>4</th>\n",
       "      <td>SERCA1a</td>\n",
       "      <td>TM10</td>\n",
       "      <td>False</td>\n",
       "      <td>3</td>\n",
       "      <td>TM10</td>\n",
       "    </tr>\n",
       "    <tr>\n",
       "      <th>5</th>\n",
       "      <td>SERCA1a</td>\n",
       "      <td>TM10</td>\n",
       "      <td>True</td>\n",
       "      <td>5</td>\n",
       "      <td>TM10</td>\n",
       "    </tr>\n",
       "    <tr>\n",
       "      <th>6</th>\n",
       "      <td>SERCA1a</td>\n",
       "      <td>TM2</td>\n",
       "      <td>False</td>\n",
       "      <td>1</td>\n",
       "      <td>TM2</td>\n",
       "    </tr>\n",
       "    <tr>\n",
       "      <th>7</th>\n",
       "      <td>SERCA1a</td>\n",
       "      <td>TM2</td>\n",
       "      <td>True</td>\n",
       "      <td>2</td>\n",
       "      <td>TM2</td>\n",
       "    </tr>\n",
       "    <tr>\n",
       "      <th>8</th>\n",
       "      <td>SERCA1a</td>\n",
       "      <td>TM3</td>\n",
       "      <td>False</td>\n",
       "      <td>4</td>\n",
       "      <td>TM3</td>\n",
       "    </tr>\n",
       "    <tr>\n",
       "      <th>9</th>\n",
       "      <td>SERCA1a</td>\n",
       "      <td>TM3-4_loop</td>\n",
       "      <td>False</td>\n",
       "      <td>1</td>\n",
       "      <td>TM3-4_loop</td>\n",
       "    </tr>\n",
       "  </tbody>\n",
       "</table>\n",
       "</div>"
      ],
      "text/plain": [
       "     entry acceptor_domain  interdomain  acceptor_count merge_domain\n",
       "0  SERCA1a        P_domain         True              10     P_domain\n",
       "1  SERCA1a             TM1        False               2          TM1\n",
       "2  SERCA1a             TM1         True               1          TM1\n",
       "3  SERCA1a      TM1-2_loop         True               1   TM1-2_loop\n",
       "4  SERCA1a            TM10        False               3         TM10\n",
       "5  SERCA1a            TM10         True               5         TM10\n",
       "6  SERCA1a             TM2        False               1          TM2\n",
       "7  SERCA1a             TM2         True               2          TM2\n",
       "8  SERCA1a             TM3        False               4          TM3\n",
       "9  SERCA1a      TM3-4_loop        False               1   TM3-4_loop"
      ]
     },
     "execution_count": 15,
     "metadata": {},
     "output_type": "execute_result"
    }
   ],
   "source": [
    "df_acceptor.head(10)"
   ]
  },
  {
   "cell_type": "markdown",
   "metadata": {},
   "source": [
    "Merge df_acceptor to df_donor"
   ]
  },
  {
   "cell_type": "code",
   "execution_count": 16,
   "metadata": {},
   "outputs": [],
   "source": [
    "df_merged_count = pd.merge(df_acceptor, df_donor[[\"entry\", \"interdomain\", \"merge_domain\", \"donor_count\"]],\n",
    "                           how = \"outer\",\n",
    "                           on = [\"entry\", \"merge_domain\", \"interdomain\"])\n",
    "\n",
    "# fill nan with zeros\n",
    "\n",
    "df_merged_count = df_merged_count.fillna(0)"
   ]
  },
  {
   "cell_type": "markdown",
   "metadata": {},
   "source": [
    "Creat a column of sum(acceptor_count + donor_count)"
   ]
  },
  {
   "cell_type": "code",
   "execution_count": 17,
   "metadata": {},
   "outputs": [],
   "source": [
    "df_merged_count[\"total_count\"] = df_merged_count[\"acceptor_count\"] + df_merged_count[\"donor_count\"]"
   ]
  },
  {
   "cell_type": "markdown",
   "metadata": {},
   "source": [
    "Clean the dataframe"
   ]
  },
  {
   "cell_type": "code",
   "execution_count": 18,
   "metadata": {},
   "outputs": [],
   "source": [
    "df_cleaned = df_merged_count[[\"entry\", \"merge_domain\", \"interdomain\", \"total_count\"]]\n",
    "df_cleaned = df_cleaned.rename(columns = {\"merge_domain\" : \"domain\"}) "
   ]
  },
  {
   "cell_type": "markdown",
   "metadata": {},
   "source": [
    "Because cytosolic domains is not necessary here, remove them from the dataframe."
   ]
  },
  {
   "cell_type": "code",
   "execution_count": 19,
   "metadata": {},
   "outputs": [],
   "source": [
    "df_cleaned_remove_ANP = df_cleaned.loc[df_cleaned[\"domain\"].isin(list_TMs)]\n",
    "# ANP here means A-, N-, P- domain."
   ]
  },
  {
   "cell_type": "markdown",
   "metadata": {},
   "source": [
    "Save the result"
   ]
  },
  {
   "cell_type": "code",
   "execution_count": 20,
   "metadata": {},
   "outputs": [],
   "source": [
    "df_cleaned_remove_ANP.to_csv(\"output/Interactions_of_TMs_E1ATP.csv\", index = False)"
   ]
  }
 ],
 "metadata": {
  "interpreter": {
   "hash": "abea07b06a71b21648f47453f9308ee965221e34a5088a8f976a1ebf339fa387"
  },
  "kernelspec": {
   "display_name": "Python 3.8.11 64-bit ('biopython')",
   "language": "python",
   "name": "python3"
  },
  "language_info": {
   "codemirror_mode": {
    "name": "ipython",
    "version": 3
   },
   "file_extension": ".py",
   "mimetype": "text/x-python",
   "name": "python",
   "nbconvert_exporter": "python",
   "pygments_lexer": "ipython3",
   "version": "3.8.11"
  },
  "orig_nbformat": 4
 },
 "nbformat": 4,
 "nbformat_minor": 2
}
