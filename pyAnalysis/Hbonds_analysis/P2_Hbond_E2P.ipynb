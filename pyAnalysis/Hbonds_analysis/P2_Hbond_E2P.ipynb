{
 "cells": [
  {
   "cell_type": "code",
   "execution_count": 1,
   "metadata": {},
   "outputs": [],
   "source": [
    "import pandas as pd\n",
    "from Hb_toolkit import *"
   ]
  },
  {
   "cell_type": "markdown",
   "metadata": {},
   "source": [
    "Covert the txt files to Dataframes"
   ]
  },
  {
   "cell_type": "code",
   "execution_count": 2,
   "metadata": {},
   "outputs": [],
   "source": [
    "hb_s1a   = Path(f\"hb_s1a_E2P.txt\").read_text()\n",
    "hb_s2b   = Path(f\"hb_s2b_E2P.txt\").read_text()\n",
    "hb_spca1 = Path(f\"hb_spca1a_E2P.txt\").read_text()\n",
    "\n",
    "df_s1a   = input_to_df(hb_s1a)\n",
    "df_s2b   = input_to_df(hb_s2b)\n",
    "df_spca1 = input_to_df(hb_spca1)\n"
   ]
  },
  {
   "cell_type": "markdown",
   "metadata": {},
   "source": [
    "Add entry names"
   ]
  },
  {
   "cell_type": "code",
   "execution_count": 3,
   "metadata": {},
   "outputs": [],
   "source": [
    "df_s1a[\"entry\"]   = \"SERCA1a\"\n",
    "df_s2b[\"entry\"]   = \"SERCA2b\"\n",
    "df_spca1[\"entry\"] = \"SPCA1a\""
   ]
  },
  {
   "cell_type": "code",
   "execution_count": 4,
   "metadata": {},
   "outputs": [
    {
     "data": {
      "text/html": [
       "<div>\n",
       "<style scoped>\n",
       "    .dataframe tbody tr th:only-of-type {\n",
       "        vertical-align: middle;\n",
       "    }\n",
       "\n",
       "    .dataframe tbody tr th {\n",
       "        vertical-align: top;\n",
       "    }\n",
       "\n",
       "    .dataframe thead th {\n",
       "        text-align: right;\n",
       "    }\n",
       "</style>\n",
       "<table border=\"1\" class=\"dataframe\">\n",
       "  <thead>\n",
       "    <tr style=\"text-align: right;\">\n",
       "      <th></th>\n",
       "      <th>donor_chain</th>\n",
       "      <th>donor_residue_ID</th>\n",
       "      <th>donor_seq</th>\n",
       "      <th>donor_atom</th>\n",
       "      <th>acceptor_chain</th>\n",
       "      <th>acceptor_residue_ID</th>\n",
       "      <th>acceptor_seq</th>\n",
       "      <th>acceptor_atom</th>\n",
       "      <th>distance</th>\n",
       "      <th>entry</th>\n",
       "    </tr>\n",
       "  </thead>\n",
       "  <tbody>\n",
       "    <tr>\n",
       "      <th>0</th>\n",
       "      <td>A</td>\n",
       "      <td>SER</td>\n",
       "      <td>23</td>\n",
       "      <td>OG</td>\n",
       "      <td>A</td>\n",
       "      <td>ASP</td>\n",
       "      <td>172</td>\n",
       "      <td>OD2</td>\n",
       "      <td>3.545</td>\n",
       "      <td>SPCA1a</td>\n",
       "    </tr>\n",
       "    <tr>\n",
       "      <th>1</th>\n",
       "      <td>A</td>\n",
       "      <td>ALA</td>\n",
       "      <td>26</td>\n",
       "      <td>N</td>\n",
       "      <td>A</td>\n",
       "      <td>THR</td>\n",
       "      <td>22</td>\n",
       "      <td>O</td>\n",
       "      <td>2.788</td>\n",
       "      <td>SPCA1a</td>\n",
       "    </tr>\n",
       "    <tr>\n",
       "      <th>2</th>\n",
       "      <td>A</td>\n",
       "      <td>SER</td>\n",
       "      <td>27</td>\n",
       "      <td>N</td>\n",
       "      <td>A</td>\n",
       "      <td>SER</td>\n",
       "      <td>23</td>\n",
       "      <td>O</td>\n",
       "      <td>2.901</td>\n",
       "      <td>SPCA1a</td>\n",
       "    </tr>\n",
       "    <tr>\n",
       "      <th>3</th>\n",
       "      <td>A</td>\n",
       "      <td>GLU</td>\n",
       "      <td>28</td>\n",
       "      <td>N</td>\n",
       "      <td>A</td>\n",
       "      <td>LYS</td>\n",
       "      <td>24</td>\n",
       "      <td>O</td>\n",
       "      <td>2.929</td>\n",
       "      <td>SPCA1a</td>\n",
       "    </tr>\n",
       "    <tr>\n",
       "      <th>4</th>\n",
       "      <td>A</td>\n",
       "      <td>LEU</td>\n",
       "      <td>29</td>\n",
       "      <td>N</td>\n",
       "      <td>A</td>\n",
       "      <td>LYS</td>\n",
       "      <td>25</td>\n",
       "      <td>O</td>\n",
       "      <td>3.120</td>\n",
       "      <td>SPCA1a</td>\n",
       "    </tr>\n",
       "    <tr>\n",
       "      <th>5</th>\n",
       "      <td>A</td>\n",
       "      <td>VAL</td>\n",
       "      <td>34</td>\n",
       "      <td>N</td>\n",
       "      <td>A</td>\n",
       "      <td>PRO</td>\n",
       "      <td>30</td>\n",
       "      <td>O</td>\n",
       "      <td>3.042</td>\n",
       "      <td>SPCA1a</td>\n",
       "    </tr>\n",
       "    <tr>\n",
       "      <th>6</th>\n",
       "      <td>A</td>\n",
       "      <td>ALA</td>\n",
       "      <td>35</td>\n",
       "      <td>N</td>\n",
       "      <td>A</td>\n",
       "      <td>VAL</td>\n",
       "      <td>31</td>\n",
       "      <td>O</td>\n",
       "      <td>2.922</td>\n",
       "      <td>SPCA1a</td>\n",
       "    </tr>\n",
       "    <tr>\n",
       "      <th>7</th>\n",
       "      <td>A</td>\n",
       "      <td>SER</td>\n",
       "      <td>36</td>\n",
       "      <td>N</td>\n",
       "      <td>A</td>\n",
       "      <td>SER</td>\n",
       "      <td>32</td>\n",
       "      <td>O</td>\n",
       "      <td>2.868</td>\n",
       "      <td>SPCA1a</td>\n",
       "    </tr>\n",
       "    <tr>\n",
       "      <th>8</th>\n",
       "      <td>A</td>\n",
       "      <td>ILE</td>\n",
       "      <td>37</td>\n",
       "      <td>N</td>\n",
       "      <td>A</td>\n",
       "      <td>GLU</td>\n",
       "      <td>33</td>\n",
       "      <td>O</td>\n",
       "      <td>2.977</td>\n",
       "      <td>SPCA1a</td>\n",
       "    </tr>\n",
       "    <tr>\n",
       "      <th>9</th>\n",
       "      <td>A</td>\n",
       "      <td>LEU</td>\n",
       "      <td>38</td>\n",
       "      <td>N</td>\n",
       "      <td>A</td>\n",
       "      <td>VAL</td>\n",
       "      <td>34</td>\n",
       "      <td>O</td>\n",
       "      <td>2.905</td>\n",
       "      <td>SPCA1a</td>\n",
       "    </tr>\n",
       "  </tbody>\n",
       "</table>\n",
       "</div>"
      ],
      "text/plain": [
       "  donor_chain donor_residue_ID  donor_seq donor_atom acceptor_chain  \\\n",
       "0           A              SER         23         OG              A   \n",
       "1           A              ALA         26          N              A   \n",
       "2           A              SER         27          N              A   \n",
       "3           A              GLU         28          N              A   \n",
       "4           A              LEU         29          N              A   \n",
       "5           A              VAL         34          N              A   \n",
       "6           A              ALA         35          N              A   \n",
       "7           A              SER         36          N              A   \n",
       "8           A              ILE         37          N              A   \n",
       "9           A              LEU         38          N              A   \n",
       "\n",
       "  acceptor_residue_ID  acceptor_seq acceptor_atom  distance   entry  \n",
       "0                 ASP           172           OD2     3.545  SPCA1a  \n",
       "1                 THR            22             O     2.788  SPCA1a  \n",
       "2                 SER            23             O     2.901  SPCA1a  \n",
       "3                 LYS            24             O     2.929  SPCA1a  \n",
       "4                 LYS            25             O     3.120  SPCA1a  \n",
       "5                 PRO            30             O     3.042  SPCA1a  \n",
       "6                 VAL            31             O     2.922  SPCA1a  \n",
       "7                 SER            32             O     2.868  SPCA1a  \n",
       "8                 GLU            33             O     2.977  SPCA1a  \n",
       "9                 VAL            34             O     2.905  SPCA1a  "
      ]
     },
     "execution_count": 4,
     "metadata": {},
     "output_type": "execute_result"
    }
   ],
   "source": [
    "df_spca1.head(10)"
   ]
  },
  {
   "cell_type": "code",
   "execution_count": 5,
   "metadata": {},
   "outputs": [
    {
     "data": {
      "text/plain": [
       "donor_chain             object\n",
       "donor_residue_ID        object\n",
       "donor_seq                int64\n",
       "donor_atom              object\n",
       "acceptor_chain          object\n",
       "acceptor_residue_ID     object\n",
       "acceptor_seq             int64\n",
       "acceptor_atom           object\n",
       "distance               float64\n",
       "entry                   object\n",
       "dtype: object"
      ]
     },
     "execution_count": 5,
     "metadata": {},
     "output_type": "execute_result"
    }
   ],
   "source": [
    "df_spca1.dtypes"
   ]
  },
  {
   "cell_type": "markdown",
   "metadata": {},
   "source": [
    "Read domain info"
   ]
  },
  {
   "cell_type": "code",
   "execution_count": 6,
   "metadata": {},
   "outputs": [],
   "source": [
    "df_domain_s1a     = pd.read_csv(\"../Domain_definition/s1a_each_domain_exhaustive.csv\")\n",
    "df_domain_s2b     = pd.read_csv(\"../Domain_definition/s2b_each_domain_exhaustive.csv\")\n",
    "df_domain_spca1   = pd.read_csv(\"../Domain_definition/spca1_each_domain_exhaustive.csv\")"
   ]
  },
  {
   "cell_type": "markdown",
   "metadata": {},
   "source": [
    "merge domain to dfs"
   ]
  },
  {
   "cell_type": "code",
   "execution_count": 7,
   "metadata": {},
   "outputs": [],
   "source": [
    "df_merged_s1a   = merge_domains(df_s1a, df_domain_s1a)\n",
    "df_merged_s2b   = merge_domains(df_s2b, df_domain_s2b)\n",
    "df_merged_spca1 = merge_domains(df_spca1, df_domain_spca1)"
   ]
  },
  {
   "cell_type": "markdown",
   "metadata": {},
   "source": [
    "Concatenate dfs to a single dataframe"
   ]
  },
  {
   "cell_type": "code",
   "execution_count": 8,
   "metadata": {},
   "outputs": [],
   "source": [
    "df_concat = pd.concat([df_merged_s1a,df_merged_s2b,df_merged_spca1])"
   ]
  },
  {
   "cell_type": "markdown",
   "metadata": {},
   "source": [
    "Save the dataframe to .csv"
   ]
  },
  {
   "cell_type": "code",
   "execution_count": 9,
   "metadata": {},
   "outputs": [],
   "source": [
    "df_concat.to_csv(\"output/hydrogen_bonds_summary_E2P.csv\",index=False)"
   ]
  },
  {
   "cell_type": "markdown",
   "metadata": {},
   "source": [
    "We are going to focuns on hydrogen bonds with TMs, let's filter the dataframe to get donor or acceptor residues in TMs"
   ]
  },
  {
   "cell_type": "code",
   "execution_count": 10,
   "metadata": {},
   "outputs": [],
   "source": [
    "list_TMs = [\"TM1\"        ,\n",
    "            \"TM1-2_loop\" ,\n",
    "            \"TM2\"        ,\n",
    "            \"TM3\"        ,\n",
    "            \"TM3-4_loop\" ,\n",
    "            \"TM4\"        ,\n",
    "            \"TM5\"        ,\n",
    "            \"TM5-6_loop\" ,\n",
    "            \"TM6\"        ,\n",
    "            \"TM6-7_loop\" ,\n",
    "            \"TM7\"        ,\n",
    "            \"TM7-8_loop\" ,\n",
    "            \"TM8\"        ,\n",
    "            \"TM8-9_loop\" ,\n",
    "            \"TM9\"        ,\n",
    "            \"TM9-10_loop\",\n",
    "            \"TM10\"]\n",
    "\n",
    "condition_1 = df_concat[\"donor_domain\"].isin(list_TMs)  | (df_concat[\"acceptor_domain\"].isin(list_TMs))\n",
    "\n",
    "df_concat_TMs_0 = df_concat.loc[condition_1].reset_index(drop=True) # drop old index"
   ]
  },
  {
   "cell_type": "markdown",
   "metadata": {},
   "source": [
    "Additionally, we'd better remove hygrogen bond formed between mainchain N and O."
   ]
  },
  {
   "cell_type": "code",
   "execution_count": 11,
   "metadata": {},
   "outputs": [],
   "source": [
    "condition_2 = (df_concat_TMs_0[\"donor_atom\"] != \"N\")  | (df_concat_TMs_0[\"acceptor_atom\"] != \"O\")\n",
    "\n",
    "df_concat_TMs = df_concat_TMs_0.loc[condition_2].reset_index(drop=True) # drop old index"
   ]
  },
  {
   "cell_type": "markdown",
   "metadata": {},
   "source": [
    "Detect interdomain hydrogen bonds"
   ]
  },
  {
   "cell_type": "code",
   "execution_count": 12,
   "metadata": {},
   "outputs": [],
   "source": [
    "df_concat_TMs[\"interdomain\"] = df_concat_TMs[\"donor_domain\"] != df_concat_TMs[\"acceptor_domain\"]"
   ]
  },
  {
   "cell_type": "code",
   "execution_count": 13,
   "metadata": {},
   "outputs": [],
   "source": [
    "df_concat_TMs.to_csv(\"output/interdomain_E2P.csv\", index=False)"
   ]
  },
  {
   "cell_type": "markdown",
   "metadata": {},
   "source": [
    "Group [\"entry\",\"acceptor_domain\",\"interdomain\"]"
   ]
  },
  {
   "cell_type": "code",
   "execution_count": 14,
   "metadata": {},
   "outputs": [],
   "source": [
    "df_acceptor = df_concat_TMs.groupby([\"entry\",\"acceptor_domain\",\"interdomain\"]).size().reset_index()\n",
    "df_acceptor = df_acceptor.rename(columns = {0 : \"acceptor_count\"}) # rename the last column\n",
    "\n",
    "df_donor    = df_concat_TMs.groupby([\"entry\",\"donor_domain\",\"interdomain\"]).size().reset_index()\n",
    "df_donor    = df_donor.rename(columns = {0 : \"donor_count\"}) # rename the last column\n",
    "\n",
    "# add a column for merge\n",
    "df_acceptor[\"merge_domain\"] = df_acceptor[\"acceptor_domain\"]\n",
    "df_donor[\"merge_domain\"]    = df_donor[\"donor_domain\"]"
   ]
  },
  {
   "cell_type": "code",
   "execution_count": 15,
   "metadata": {},
   "outputs": [
    {
     "data": {
      "text/html": [
       "<div>\n",
       "<style scoped>\n",
       "    .dataframe tbody tr th:only-of-type {\n",
       "        vertical-align: middle;\n",
       "    }\n",
       "\n",
       "    .dataframe tbody tr th {\n",
       "        vertical-align: top;\n",
       "    }\n",
       "\n",
       "    .dataframe thead th {\n",
       "        text-align: right;\n",
       "    }\n",
       "</style>\n",
       "<table border=\"1\" class=\"dataframe\">\n",
       "  <thead>\n",
       "    <tr style=\"text-align: right;\">\n",
       "      <th></th>\n",
       "      <th>entry</th>\n",
       "      <th>acceptor_domain</th>\n",
       "      <th>interdomain</th>\n",
       "      <th>acceptor_count</th>\n",
       "      <th>merge_domain</th>\n",
       "    </tr>\n",
       "  </thead>\n",
       "  <tbody>\n",
       "    <tr>\n",
       "      <th>0</th>\n",
       "      <td>SERCA1a</td>\n",
       "      <td>A_domain</td>\n",
       "      <td>True</td>\n",
       "      <td>1</td>\n",
       "      <td>A_domain</td>\n",
       "    </tr>\n",
       "    <tr>\n",
       "      <th>1</th>\n",
       "      <td>SERCA1a</td>\n",
       "      <td>P_domain</td>\n",
       "      <td>True</td>\n",
       "      <td>6</td>\n",
       "      <td>P_domain</td>\n",
       "    </tr>\n",
       "    <tr>\n",
       "      <th>2</th>\n",
       "      <td>SERCA1a</td>\n",
       "      <td>TM1</td>\n",
       "      <td>False</td>\n",
       "      <td>3</td>\n",
       "      <td>TM1</td>\n",
       "    </tr>\n",
       "    <tr>\n",
       "      <th>3</th>\n",
       "      <td>SERCA1a</td>\n",
       "      <td>TM10</td>\n",
       "      <td>False</td>\n",
       "      <td>1</td>\n",
       "      <td>TM10</td>\n",
       "    </tr>\n",
       "    <tr>\n",
       "      <th>4</th>\n",
       "      <td>SERCA1a</td>\n",
       "      <td>TM10</td>\n",
       "      <td>True</td>\n",
       "      <td>5</td>\n",
       "      <td>TM10</td>\n",
       "    </tr>\n",
       "    <tr>\n",
       "      <th>5</th>\n",
       "      <td>SERCA1a</td>\n",
       "      <td>TM2</td>\n",
       "      <td>True</td>\n",
       "      <td>1</td>\n",
       "      <td>TM2</td>\n",
       "    </tr>\n",
       "    <tr>\n",
       "      <th>6</th>\n",
       "      <td>SERCA1a</td>\n",
       "      <td>TM3</td>\n",
       "      <td>False</td>\n",
       "      <td>2</td>\n",
       "      <td>TM3</td>\n",
       "    </tr>\n",
       "    <tr>\n",
       "      <th>7</th>\n",
       "      <td>SERCA1a</td>\n",
       "      <td>TM4</td>\n",
       "      <td>False</td>\n",
       "      <td>3</td>\n",
       "      <td>TM4</td>\n",
       "    </tr>\n",
       "    <tr>\n",
       "      <th>8</th>\n",
       "      <td>SERCA1a</td>\n",
       "      <td>TM4</td>\n",
       "      <td>True</td>\n",
       "      <td>3</td>\n",
       "      <td>TM4</td>\n",
       "    </tr>\n",
       "    <tr>\n",
       "      <th>9</th>\n",
       "      <td>SERCA1a</td>\n",
       "      <td>TM5</td>\n",
       "      <td>False</td>\n",
       "      <td>3</td>\n",
       "      <td>TM5</td>\n",
       "    </tr>\n",
       "  </tbody>\n",
       "</table>\n",
       "</div>"
      ],
      "text/plain": [
       "     entry acceptor_domain  interdomain  acceptor_count merge_domain\n",
       "0  SERCA1a        A_domain         True               1     A_domain\n",
       "1  SERCA1a        P_domain         True               6     P_domain\n",
       "2  SERCA1a             TM1        False               3          TM1\n",
       "3  SERCA1a            TM10        False               1         TM10\n",
       "4  SERCA1a            TM10         True               5         TM10\n",
       "5  SERCA1a             TM2         True               1          TM2\n",
       "6  SERCA1a             TM3        False               2          TM3\n",
       "7  SERCA1a             TM4        False               3          TM4\n",
       "8  SERCA1a             TM4         True               3          TM4\n",
       "9  SERCA1a             TM5        False               3          TM5"
      ]
     },
     "execution_count": 15,
     "metadata": {},
     "output_type": "execute_result"
    }
   ],
   "source": [
    "df_acceptor.head(10)"
   ]
  },
  {
   "cell_type": "markdown",
   "metadata": {},
   "source": [
    "Merge df_acceptor to df_donor"
   ]
  },
  {
   "cell_type": "code",
   "execution_count": 16,
   "metadata": {},
   "outputs": [],
   "source": [
    "df_merged_count = pd.merge(df_acceptor, df_donor[[\"entry\", \"interdomain\", \"merge_domain\", \"donor_count\"]],\n",
    "                           how = \"outer\",\n",
    "                           on = [\"entry\", \"merge_domain\", \"interdomain\"])\n",
    "\n",
    "# fill nan with zeros\n",
    "\n",
    "df_merged_count = df_merged_count.fillna(0)"
   ]
  },
  {
   "cell_type": "markdown",
   "metadata": {},
   "source": [
    "Creat a column of sum(acceptor_count + donor_count)"
   ]
  },
  {
   "cell_type": "code",
   "execution_count": 17,
   "metadata": {},
   "outputs": [],
   "source": [
    "df_merged_count[\"total_count\"] = df_merged_count[\"acceptor_count\"] + df_merged_count[\"donor_count\"]"
   ]
  },
  {
   "cell_type": "markdown",
   "metadata": {},
   "source": [
    "Clean the dataframe"
   ]
  },
  {
   "cell_type": "code",
   "execution_count": 18,
   "metadata": {},
   "outputs": [],
   "source": [
    "df_cleaned = df_merged_count[[\"entry\", \"merge_domain\", \"interdomain\", \"total_count\"]]\n",
    "df_cleaned = df_cleaned.rename(columns = {\"merge_domain\" : \"domain\"}) "
   ]
  },
  {
   "cell_type": "markdown",
   "metadata": {},
   "source": [
    "Because cytosolic domains is not necessary here, remove them from the dataframe."
   ]
  },
  {
   "cell_type": "code",
   "execution_count": 19,
   "metadata": {},
   "outputs": [],
   "source": [
    "df_cleaned_remove_ANP = df_cleaned.loc[df_cleaned[\"domain\"].isin(list_TMs)]"
   ]
  },
  {
   "cell_type": "markdown",
   "metadata": {},
   "source": [
    "Save the result"
   ]
  },
  {
   "cell_type": "code",
   "execution_count": 20,
   "metadata": {},
   "outputs": [],
   "source": [
    "df_cleaned_remove_ANP.to_csv(\"output/Interactions_of_TMs_E2P.csv\", index = False)"
   ]
  }
 ],
 "metadata": {
  "interpreter": {
   "hash": "abea07b06a71b21648f47453f9308ee965221e34a5088a8f976a1ebf339fa387"
  },
  "kernelspec": {
   "display_name": "Python 3.8.11 64-bit ('biopython')",
   "language": "python",
   "name": "python3"
  },
  "language_info": {
   "codemirror_mode": {
    "name": "ipython",
    "version": 3
   },
   "file_extension": ".py",
   "mimetype": "text/x-python",
   "name": "python",
   "nbconvert_exporter": "python",
   "pygments_lexer": "ipython3",
   "version": "3.8.11"
  },
  "orig_nbformat": 4
 },
 "nbformat": 4,
 "nbformat_minor": 2
}
