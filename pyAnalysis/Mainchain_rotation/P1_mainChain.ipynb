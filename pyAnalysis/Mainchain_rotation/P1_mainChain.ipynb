{
 "cells": [
  {
   "cell_type": "code",
   "execution_count": 1,
   "metadata": {},
   "outputs": [],
   "source": [
    "from pdbecif.mmcif_io import CifFileReader\n",
    "import pandas as pd\n",
    "import numpy as np\n",
    "import numpy.linalg as LA\n",
    "from pdb_toolkit import *"
   ]
  },
  {
   "cell_type": "markdown",
   "metadata": {},
   "source": [
    "Read domain and rotation axis info"
   ]
  },
  {
   "cell_type": "code",
   "execution_count": 2,
   "metadata": {},
   "outputs": [],
   "source": [
    "df_sum_rotation   = pd.read_csv(\"main_chain_rotation_sum.csv\")\n",
    "df_domain_s1a     = pd.read_csv(\"../Domain_definition/serca1a_each_domain.csv\")\n",
    "df_domain_s2b     = pd.read_csv(\"../Domain_definition/serca2b_each_domain.csv\")\n",
    "df_domain_spca1Ca = pd.read_csv(\"../Domain_definition/spca1_each_domain.csv\")"
   ]
  },
  {
   "cell_type": "markdown",
   "metadata": {},
   "source": [
    "add entry name to df_domains"
   ]
  },
  {
   "cell_type": "code",
   "execution_count": 3,
   "metadata": {},
   "outputs": [],
   "source": [
    "df_domain_s1a[\"entry\"]     = \"s1a\"\n",
    "df_domain_s2b[\"entry\"]     = \"s2b\"\n",
    "df_domain_spca1Ca[\"entry\"] = \"spca1Ca\""
   ]
  },
  {
   "cell_type": "markdown",
   "metadata": {},
   "source": [
    "Concatenate domain into a single df"
   ]
  },
  {
   "cell_type": "code",
   "execution_count": 4,
   "metadata": {},
   "outputs": [],
   "source": [
    "\n",
    "df_domain_concat = pd.concat([df_domain_s1a, df_domain_s2b, df_domain_spca1Ca])"
   ]
  },
  {
   "cell_type": "code",
   "execution_count": 5,
   "metadata": {},
   "outputs": [],
   "source": [
    "E1_ATP_list = [\"6LLE\", \"3AR2\", \"Mb_Ca_2\"]\n",
    "E2P_list    = [\"6LLY\", \"3B9B\", \"E2P_Ca\" ]\n",
    "entry_list  = [\"s2b\" , \"s1a\" , \"spca1Ca\"]\n",
    "df_list     = []\n",
    "\n",
    "for i in range(len(entry_list)):\n",
    "    cif_E1ATP = CifFileReader().read(f\"./{E1_ATP_list[i]}.cif\")\n",
    "    df_E1ATP = extract_coor(cif_E1ATP,f\"{E1_ATP_list[i]}\")\n",
    "    df_E1ATP_valid = valid_resi(df_E1ATP)\n",
    "    df_E1ATP_alphaC = alpha_C(df_E1ATP_valid)\n",
    "    \n",
    "    cif_E2P = CifFileReader().read(f\"./{E2P_list[i]}.cif\")\n",
    "    df_E2P = extract_coor(cif_E2P,f\"{E2P_list[i]}\")\n",
    "    df_E2P_valid = valid_resi(df_E2P)\n",
    "    df_E2P_alphaC = alpha_C(df_E2P_valid)\n",
    "    \n",
    "    # Rename columns\n",
    "    df_E1ATP_renamed = df_E1ATP_alphaC.rename(columns={\"alpha_x\"  : \"E1ATP_alpha_x\",\n",
    "                                                       \"alpha_y\"  : \"E1ATP_alpha_y\",\n",
    "                                                       \"alpha_z\"  : \"E1ATP_alpha_z\"},inplace=True)\n",
    "    \n",
    "    df_E2P_renamed   = df_E2P_alphaC.rename(columns={\"alpha_x\"  : \"E2P_alpha_x\",\n",
    "                                                     \"alpha_y\"  : \"E2P_alpha_y\",\n",
    "                                                     \"alpha_z\"  : \"E2P_alpha_z\"},inplace=True)\n",
    "    # Merge E2P to E1ATP\n",
    "    df_merged = pd.merge(df_E1ATP_alphaC, df_E2P_alphaC,\n",
    "                        how=\"left\",\n",
    "                        on=[\"residue_chain\", \"residue_ID\", \"residue_seq\",\"atom_ID\"])\n",
    "    # Add an entry column\n",
    "    df_merged[\"entry\"] = f\"{entry_list[i]}\"\n",
    "\n",
    "    # Select only chain A residues\n",
    "    df_chainA = df_merged.loc[df_merged[\"residue_chain\"] == \"A\"]\n",
    "    \n",
    "    # Append df_merge to df_list\n",
    "    df_list.append(df_chainA)"
   ]
  },
  {
   "cell_type": "markdown",
   "metadata": {},
   "source": [
    "concetenate dfs in df_list to a single daraframe"
   ]
  },
  {
   "cell_type": "code",
   "execution_count": 6,
   "metadata": {},
   "outputs": [],
   "source": [
    "\n",
    "df_concat = pd.concat(df_list)"
   ]
  },
  {
   "cell_type": "markdown",
   "metadata": {},
   "source": [
    "Add domain info to each residues"
   ]
  },
  {
   "cell_type": "code",
   "execution_count": 7,
   "metadata": {},
   "outputs": [],
   "source": [
    "\n",
    "df_resi_withDomain = pd.merge(df_concat, df_domain_concat,\n",
    "                              how=\"left\",\n",
    "                              on=[\"entry\", \"residue_seq\"])\n",
    "\n",
    "df_resi_withDomain_clean = df_resi_withDomain.dropna().reset_index(drop=True)\n"
   ]
  },
  {
   "cell_type": "code",
   "execution_count": 8,
   "metadata": {},
   "outputs": [],
   "source": [
    "# Add rotation axis coordinates to each residue based on their domain info.\n",
    "df_withAxisCoor = pd.merge(df_resi_withDomain_clean, \n",
    "                           df_sum_rotation[[\"entry\",\"domain\",\"center_of_axis_x\",\"center_of_axis_y\",\"center_of_axis_z\"]],\n",
    "                           how=\"left\",\n",
    "                           on=[\"entry\",\"domain\"])\n",
    "\n",
    "# Remove TM6-7 loop\n",
    "df_withAxisCoor_clean = df_withAxisCoor.dropna().reset_index(drop=True)"
   ]
  },
  {
   "cell_type": "markdown",
   "metadata": {},
   "source": [
    "## Calculate the angle"
   ]
  },
  {
   "cell_type": "code",
   "execution_count": 9,
   "metadata": {},
   "outputs": [],
   "source": [
    "point_center = np.array([df_withAxisCoor_clean[\"center_of_axis_x\"],df_withAxisCoor_clean[\"center_of_axis_y\"],df_withAxisCoor_clean[\"center_of_axis_z\"]]).transpose()\n",
    "point_E1ATP  = np.array([df_withAxisCoor_clean[\"E1ATP_alpha_x\"],   df_withAxisCoor_clean[\"E1ATP_alpha_y\"],   df_withAxisCoor_clean[\"E1ATP_alpha_z\"]]).transpose()\n",
    "point_E2P    = np.array([df_withAxisCoor_clean[\"E2P_alpha_x\"],     df_withAxisCoor_clean[\"E2P_alpha_y\"],     df_withAxisCoor_clean[\"E2P_alpha_z\"]]).transpose()"
   ]
  },
  {
   "cell_type": "code",
   "execution_count": 10,
   "metadata": {},
   "outputs": [],
   "source": [
    "angle_array = np.array([])\n",
    "\n",
    "for i in range(0,len(point_E2P)):\n",
    "    c_to_E1ATP = point_E1ATP[i] - point_center[i]\n",
    "    c_to_E2P   = point_E2P[i]   - point_center[i]\n",
    "    cosine_angle = np.dot(c_to_E1ATP, c_to_E2P) / (np.linalg.norm(c_to_E1ATP) * np.linalg.norm(c_to_E2P))\n",
    "    angle = np.arccos(cosine_angle)\n",
    "    angle_array = np.append(angle_array,np.degrees(angle))"
   ]
  },
  {
   "cell_type": "code",
   "execution_count": 11,
   "metadata": {},
   "outputs": [],
   "source": [
    "df_withAxisCoor_clean[\"angle\"] = pd.Series(angle_array)"
   ]
  },
  {
   "cell_type": "markdown",
   "metadata": {},
   "source": [
    "## Take a quick look of the data"
   ]
  },
  {
   "cell_type": "code",
   "execution_count": 12,
   "metadata": {},
   "outputs": [
    {
     "data": {
      "text/html": [
       "<div>\n",
       "<style scoped>\n",
       "    .dataframe tbody tr th:only-of-type {\n",
       "        vertical-align: middle;\n",
       "    }\n",
       "\n",
       "    .dataframe tbody tr th {\n",
       "        vertical-align: top;\n",
       "    }\n",
       "\n",
       "    .dataframe thead th {\n",
       "        text-align: right;\n",
       "    }\n",
       "</style>\n",
       "<table border=\"1\" class=\"dataframe\">\n",
       "  <thead>\n",
       "    <tr style=\"text-align: right;\">\n",
       "      <th></th>\n",
       "      <th>domain</th>\n",
       "      <th>A_domain</th>\n",
       "      <th>N_domain</th>\n",
       "      <th>P_domain</th>\n",
       "      <th>TM1-2</th>\n",
       "      <th>TM3-4</th>\n",
       "      <th>TM5-6</th>\n",
       "      <th>TM7-10</th>\n",
       "    </tr>\n",
       "  </thead>\n",
       "  <tbody>\n",
       "    <tr>\n",
       "      <th rowspan=\"5\" valign=\"top\">residue_seq</th>\n",
       "      <th>count</th>\n",
       "      <td>498.000000</td>\n",
       "      <td>670.000000</td>\n",
       "      <td>496.000000</td>\n",
       "      <td>203.000000</td>\n",
       "      <td>238.000000</td>\n",
       "      <td>212.000000</td>\n",
       "      <td>459.000000</td>\n",
       "    </tr>\n",
       "    <tr>\n",
       "      <th>mean</th>\n",
       "      <td>144.927711</td>\n",
       "      <td>471.982090</td>\n",
       "      <td>597.905242</td>\n",
       "      <td>89.532020</td>\n",
       "      <td>289.361345</td>\n",
       "      <td>755.349057</td>\n",
       "      <td>889.980392</td>\n",
       "    </tr>\n",
       "    <tr>\n",
       "      <th>std</th>\n",
       "      <td>77.380523</td>\n",
       "      <td>67.631373</td>\n",
       "      <td>125.041816</td>\n",
       "      <td>21.996910</td>\n",
       "      <td>23.185086</td>\n",
       "      <td>34.143562</td>\n",
       "      <td>55.520971</td>\n",
       "    </tr>\n",
       "    <tr>\n",
       "      <th>min</th>\n",
       "      <td>1.000000</td>\n",
       "      <td>358.000000</td>\n",
       "      <td>329.000000</td>\n",
       "      <td>48.000000</td>\n",
       "      <td>247.000000</td>\n",
       "      <td>682.000000</td>\n",
       "      <td>773.000000</td>\n",
       "    </tr>\n",
       "    <tr>\n",
       "      <th>25%</th>\n",
       "      <td>53.250000</td>\n",
       "      <td>414.000000</td>\n",
       "      <td>584.750000</td>\n",
       "      <td>72.000000</td>\n",
       "      <td>270.000000</td>\n",
       "      <td>734.750000</td>\n",
       "      <td>848.500000</td>\n",
       "    </tr>\n",
       "    <tr>\n",
       "      <th>...</th>\n",
       "      <th>...</th>\n",
       "      <td>...</td>\n",
       "      <td>...</td>\n",
       "      <td>...</td>\n",
       "      <td>...</td>\n",
       "      <td>...</td>\n",
       "      <td>...</td>\n",
       "      <td>...</td>\n",
       "    </tr>\n",
       "    <tr>\n",
       "      <th rowspan=\"5\" valign=\"top\">angle</th>\n",
       "      <th>min</th>\n",
       "      <td>4.275390</td>\n",
       "      <td>5.774733</td>\n",
       "      <td>11.423767</td>\n",
       "      <td>14.535307</td>\n",
       "      <td>4.381856</td>\n",
       "      <td>0.140804</td>\n",
       "      <td>0.006847</td>\n",
       "    </tr>\n",
       "    <tr>\n",
       "      <th>25%</th>\n",
       "      <td>65.835458</td>\n",
       "      <td>51.755326</td>\n",
       "      <td>19.439337</td>\n",
       "      <td>24.272965</td>\n",
       "      <td>14.222343</td>\n",
       "      <td>2.552455</td>\n",
       "      <td>0.212345</td>\n",
       "    </tr>\n",
       "    <tr>\n",
       "      <th>50%</th>\n",
       "      <td>82.522319</td>\n",
       "      <td>61.092287</td>\n",
       "      <td>20.462787</td>\n",
       "      <td>28.977283</td>\n",
       "      <td>16.904650</td>\n",
       "      <td>4.612481</td>\n",
       "      <td>1.020407</td>\n",
       "    </tr>\n",
       "    <tr>\n",
       "      <th>75%</th>\n",
       "      <td>92.122912</td>\n",
       "      <td>68.105235</td>\n",
       "      <td>22.342853</td>\n",
       "      <td>34.396869</td>\n",
       "      <td>20.670547</td>\n",
       "      <td>7.988496</td>\n",
       "      <td>2.031770</td>\n",
       "    </tr>\n",
       "    <tr>\n",
       "      <th>max</th>\n",
       "      <td>129.770101</td>\n",
       "      <td>155.040068</td>\n",
       "      <td>25.944604</td>\n",
       "      <td>45.029592</td>\n",
       "      <td>48.183638</td>\n",
       "      <td>24.133903</td>\n",
       "      <td>17.818611</td>\n",
       "    </tr>\n",
       "  </tbody>\n",
       "</table>\n",
       "<p>88 rows × 7 columns</p>\n",
       "</div>"
      ],
      "text/plain": [
       "domain               A_domain    N_domain    P_domain       TM1-2       TM3-4  \\\n",
       "residue_seq count  498.000000  670.000000  496.000000  203.000000  238.000000   \n",
       "            mean   144.927711  471.982090  597.905242   89.532020  289.361345   \n",
       "            std     77.380523   67.631373  125.041816   21.996910   23.185086   \n",
       "            min      1.000000  358.000000  329.000000   48.000000  247.000000   \n",
       "            25%     53.250000  414.000000  584.750000   72.000000  270.000000   \n",
       "...                       ...         ...         ...         ...         ...   \n",
       "angle       min      4.275390    5.774733   11.423767   14.535307    4.381856   \n",
       "            25%     65.835458   51.755326   19.439337   24.272965   14.222343   \n",
       "            50%     82.522319   61.092287   20.462787   28.977283   16.904650   \n",
       "            75%     92.122912   68.105235   22.342853   34.396869   20.670547   \n",
       "            max    129.770101  155.040068   25.944604   45.029592   48.183638   \n",
       "\n",
       "domain                  TM5-6      TM7-10  \n",
       "residue_seq count  212.000000  459.000000  \n",
       "            mean   755.349057  889.980392  \n",
       "            std     34.143562   55.520971  \n",
       "            min    682.000000  773.000000  \n",
       "            25%    734.750000  848.500000  \n",
       "...                       ...         ...  \n",
       "angle       min      0.140804    0.006847  \n",
       "            25%      2.552455    0.212345  \n",
       "            50%      4.612481    1.020407  \n",
       "            75%      7.988496    2.031770  \n",
       "            max     24.133903   17.818611  \n",
       "\n",
       "[88 rows x 7 columns]"
      ]
     },
     "execution_count": 12,
     "metadata": {},
     "output_type": "execute_result"
    }
   ],
   "source": [
    "df_withAxisCoor_clean.groupby(\"domain\").describe().T"
   ]
  },
  {
   "cell_type": "markdown",
   "metadata": {},
   "source": [
    "## Save the result"
   ]
  },
  {
   "cell_type": "code",
   "execution_count": 13,
   "metadata": {},
   "outputs": [],
   "source": [
    "df_withAxisCoor_clean.to_csv(\"output/main_chain_rotation_angle.csv\",index=False)"
   ]
  }
 ],
 "metadata": {
  "interpreter": {
   "hash": "abea07b06a71b21648f47453f9308ee965221e34a5088a8f976a1ebf339fa387"
  },
  "kernelspec": {
   "display_name": "Python 3.8.11 64-bit ('biopython')",
   "language": "python",
   "name": "python3"
  },
  "language_info": {
   "codemirror_mode": {
    "name": "ipython",
    "version": 3
   },
   "file_extension": ".py",
   "mimetype": "text/x-python",
   "name": "python",
   "nbconvert_exporter": "python",
   "pygments_lexer": "ipython3",
   "version": "3.8.11"
  },
  "orig_nbformat": 4
 },
 "nbformat": 4,
 "nbformat_minor": 2
}
